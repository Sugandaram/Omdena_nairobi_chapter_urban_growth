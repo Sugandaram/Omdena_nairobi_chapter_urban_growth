{
 "cells": [
  {
   "cell_type": "markdown",
   "id": "b997aab0",
   "metadata": {},
   "source": [
    "# Import library"
   ]
  },
  {
   "cell_type": "code",
   "execution_count": 1,
   "id": "ae5c7908",
   "metadata": {},
   "outputs": [],
   "source": [
    "import numpy as np\n",
    "import pandas as pd\n",
    "import matplotlib.pyplot as plt\n",
    "import seaborn as sns\n",
    "import os\n",
    "os.chdir(\"D:\\\\Omdena\\\\Omdena Predictive Urban Growth and Planning\\\\nairobi-chapter-urban-growth-main\\\\nairobi-chapter-urban-growth-main\\\\src\\\\data\\\\city_growth_models\")"
   ]
  },
  {
   "cell_type": "markdown",
   "id": "38f33c08",
   "metadata": {},
   "source": [
    "# Load Dataset"
   ]
  },
  {
   "cell_type": "code",
   "execution_count": 2,
   "id": "b17efead",
   "metadata": {},
   "outputs": [],
   "source": [
    "df = pd.read_csv(\"africa_built_up_area.csv\",encoding='latin-1')"
   ]
  },
  {
   "cell_type": "code",
   "execution_count": 3,
   "id": "bc3b0987",
   "metadata": {},
   "outputs": [
    {
     "data": {
      "text/html": [
       "<div>\n",
       "<style scoped>\n",
       "    .dataframe tbody tr th:only-of-type {\n",
       "        vertical-align: middle;\n",
       "    }\n",
       "\n",
       "    .dataframe tbody tr th {\n",
       "        vertical-align: top;\n",
       "    }\n",
       "\n",
       "    .dataframe thead th {\n",
       "        text-align: right;\n",
       "    }\n",
       "</style>\n",
       "<table border=\"1\" class=\"dataframe\">\n",
       "  <thead>\n",
       "    <tr style=\"text-align: right;\">\n",
       "      <th></th>\n",
       "      <th>COU</th>\n",
       "      <th>Country</th>\n",
       "      <th>MEAS</th>\n",
       "      <th>Measure</th>\n",
       "      <th>Large subnational region</th>\n",
       "      <th>Small subnational region</th>\n",
       "      <th>VAR</th>\n",
       "      <th>Variable</th>\n",
       "      <th>Year</th>\n",
       "      <th>Unit Code</th>\n",
       "      <th>Unit</th>\n",
       "      <th>Value</th>\n",
       "    </tr>\n",
       "  </thead>\n",
       "  <tbody>\n",
       "    <tr>\n",
       "      <th>0</th>\n",
       "      <td>DZA</td>\n",
       "      <td>Algeria</td>\n",
       "      <td>SQKM</td>\n",
       "      <td>Square kilometers</td>\n",
       "      <td>Total</td>\n",
       "      <td>Total</td>\n",
       "      <td>BUILT_UP_BEFORE</td>\n",
       "      <td>Area built-up before</td>\n",
       "      <td>1975</td>\n",
       "      <td>KM2</td>\n",
       "      <td>Square kilometres</td>\n",
       "      <td>899.211600</td>\n",
       "    </tr>\n",
       "    <tr>\n",
       "      <th>1</th>\n",
       "      <td>DZA</td>\n",
       "      <td>Algeria</td>\n",
       "      <td>SQKM</td>\n",
       "      <td>Square kilometers</td>\n",
       "      <td>Total</td>\n",
       "      <td>Total</td>\n",
       "      <td>BUILT_UP_BEFORE</td>\n",
       "      <td>Area built-up before</td>\n",
       "      <td>1990</td>\n",
       "      <td>KM2</td>\n",
       "      <td>Square kilometres</td>\n",
       "      <td>1713.512700</td>\n",
       "    </tr>\n",
       "    <tr>\n",
       "      <th>2</th>\n",
       "      <td>DZA</td>\n",
       "      <td>Algeria</td>\n",
       "      <td>SQKM</td>\n",
       "      <td>Square kilometers</td>\n",
       "      <td>Total</td>\n",
       "      <td>Total</td>\n",
       "      <td>BUILT_UP_BEFORE</td>\n",
       "      <td>Area built-up before</td>\n",
       "      <td>2000</td>\n",
       "      <td>KM2</td>\n",
       "      <td>Square kilometres</td>\n",
       "      <td>2326.863600</td>\n",
       "    </tr>\n",
       "    <tr>\n",
       "      <th>3</th>\n",
       "      <td>DZA</td>\n",
       "      <td>Algeria</td>\n",
       "      <td>SQKM</td>\n",
       "      <td>Square kilometers</td>\n",
       "      <td>Total</td>\n",
       "      <td>Total</td>\n",
       "      <td>BUILT_UP_BEFORE</td>\n",
       "      <td>Area built-up before</td>\n",
       "      <td>2014</td>\n",
       "      <td>KM2</td>\n",
       "      <td>Square kilometres</td>\n",
       "      <td>2761.221600</td>\n",
       "    </tr>\n",
       "    <tr>\n",
       "      <th>4</th>\n",
       "      <td>DZA</td>\n",
       "      <td>Algeria</td>\n",
       "      <td>SQKM</td>\n",
       "      <td>Square kilometers</td>\n",
       "      <td>Total</td>\n",
       "      <td>Total</td>\n",
       "      <td>BUILT_UP_SINCE_1990</td>\n",
       "      <td>Built-up since 1990</td>\n",
       "      <td>2000</td>\n",
       "      <td>KM2</td>\n",
       "      <td>Square kilometres</td>\n",
       "      <td>613.350900</td>\n",
       "    </tr>\n",
       "    <tr>\n",
       "      <th>...</th>\n",
       "      <td>...</td>\n",
       "      <td>...</td>\n",
       "      <td>...</td>\n",
       "      <td>...</td>\n",
       "      <td>...</td>\n",
       "      <td>...</td>\n",
       "      <td>...</td>\n",
       "      <td>...</td>\n",
       "      <td>...</td>\n",
       "      <td>...</td>\n",
       "      <td>...</td>\n",
       "      <td>...</td>\n",
       "    </tr>\n",
       "    <tr>\n",
       "      <th>859</th>\n",
       "      <td>ZMB</td>\n",
       "      <td>Zambia</td>\n",
       "      <td>PCNT</td>\n",
       "      <td>Percent of total land area</td>\n",
       "      <td>Total</td>\n",
       "      <td>Total</td>\n",
       "      <td>BUILT_UP_SINCE_2000</td>\n",
       "      <td>Built-up since 2000</td>\n",
       "      <td>2014</td>\n",
       "      <td>PC</td>\n",
       "      <td>Percentage</td>\n",
       "      <td>0.011596</td>\n",
       "    </tr>\n",
       "    <tr>\n",
       "      <th>860</th>\n",
       "      <td>ZWE</td>\n",
       "      <td>Zimbabwe</td>\n",
       "      <td>PCNT</td>\n",
       "      <td>Percent of total land area</td>\n",
       "      <td>Total</td>\n",
       "      <td>Total</td>\n",
       "      <td>BUILT_UP_SINCE_2000</td>\n",
       "      <td>Built-up since 2000</td>\n",
       "      <td>2014</td>\n",
       "      <td>PC</td>\n",
       "      <td>Percentage</td>\n",
       "      <td>0.014955</td>\n",
       "    </tr>\n",
       "    <tr>\n",
       "      <th>861</th>\n",
       "      <td>SSD</td>\n",
       "      <td>South Sudan</td>\n",
       "      <td>SQKM</td>\n",
       "      <td>Square kilometers</td>\n",
       "      <td>Total</td>\n",
       "      <td>Total</td>\n",
       "      <td>BUILT_UP_SINCE_1990</td>\n",
       "      <td>Built-up since 1990</td>\n",
       "      <td>2000</td>\n",
       "      <td>KM2</td>\n",
       "      <td>Square kilometres</td>\n",
       "      <td>20.505600</td>\n",
       "    </tr>\n",
       "    <tr>\n",
       "      <th>862</th>\n",
       "      <td>SSD</td>\n",
       "      <td>South Sudan</td>\n",
       "      <td>SQKM</td>\n",
       "      <td>Square kilometers</td>\n",
       "      <td>Total</td>\n",
       "      <td>Total</td>\n",
       "      <td>BUILT_UP_SINCE_1990</td>\n",
       "      <td>Built-up since 1990</td>\n",
       "      <td>2014</td>\n",
       "      <td>KM2</td>\n",
       "      <td>Square kilometres</td>\n",
       "      <td>44.336700</td>\n",
       "    </tr>\n",
       "    <tr>\n",
       "      <th>863</th>\n",
       "      <td>SSD</td>\n",
       "      <td>South Sudan</td>\n",
       "      <td>PCNT</td>\n",
       "      <td>Percent of total land area</td>\n",
       "      <td>Total</td>\n",
       "      <td>Total</td>\n",
       "      <td>BUILT_UP_SINCE_2000</td>\n",
       "      <td>Built-up since 2000</td>\n",
       "      <td>2014</td>\n",
       "      <td>PC</td>\n",
       "      <td>Percentage</td>\n",
       "      <td>0.003762</td>\n",
       "    </tr>\n",
       "  </tbody>\n",
       "</table>\n",
       "<p>864 rows × 12 columns</p>\n",
       "</div>"
      ],
      "text/plain": [
       "     COU       Country  MEAS                     Measure  \\\n",
       "0    DZA       Algeria  SQKM           Square kilometers   \n",
       "1    DZA       Algeria  SQKM           Square kilometers   \n",
       "2    DZA       Algeria  SQKM           Square kilometers   \n",
       "3    DZA       Algeria  SQKM           Square kilometers   \n",
       "4    DZA       Algeria  SQKM           Square kilometers   \n",
       "..   ...           ...   ...                         ...   \n",
       "859  ZMB        Zambia  PCNT  Percent of total land area   \n",
       "860  ZWE      Zimbabwe  PCNT  Percent of total land area   \n",
       "861  SSD  South Sudan   SQKM           Square kilometers   \n",
       "862  SSD  South Sudan   SQKM           Square kilometers   \n",
       "863  SSD  South Sudan   PCNT  Percent of total land area   \n",
       "\n",
       "    Large subnational region Small subnational region                  VAR  \\\n",
       "0                      Total                    Total      BUILT_UP_BEFORE   \n",
       "1                      Total                    Total      BUILT_UP_BEFORE   \n",
       "2                      Total                    Total      BUILT_UP_BEFORE   \n",
       "3                      Total                    Total      BUILT_UP_BEFORE   \n",
       "4                      Total                    Total  BUILT_UP_SINCE_1990   \n",
       "..                       ...                      ...                  ...   \n",
       "859                    Total                    Total  BUILT_UP_SINCE_2000   \n",
       "860                    Total                    Total  BUILT_UP_SINCE_2000   \n",
       "861                    Total                    Total  BUILT_UP_SINCE_1990   \n",
       "862                    Total                    Total  BUILT_UP_SINCE_1990   \n",
       "863                    Total                    Total  BUILT_UP_SINCE_2000   \n",
       "\n",
       "                 Variable  Year Unit Code               Unit        Value  \n",
       "0    Area built-up before  1975       KM2  Square kilometres   899.211600  \n",
       "1    Area built-up before  1990       KM2  Square kilometres  1713.512700  \n",
       "2    Area built-up before  2000       KM2  Square kilometres  2326.863600  \n",
       "3    Area built-up before  2014       KM2  Square kilometres  2761.221600  \n",
       "4     Built-up since 1990  2000       KM2  Square kilometres   613.350900  \n",
       "..                    ...   ...       ...                ...          ...  \n",
       "859   Built-up since 2000  2014        PC         Percentage     0.011596  \n",
       "860   Built-up since 2000  2014        PC         Percentage     0.014955  \n",
       "861   Built-up since 1990  2000       KM2  Square kilometres    20.505600  \n",
       "862   Built-up since 1990  2014       KM2  Square kilometres    44.336700  \n",
       "863   Built-up since 2000  2014        PC         Percentage     0.003762  \n",
       "\n",
       "[864 rows x 12 columns]"
      ]
     },
     "execution_count": 3,
     "metadata": {},
     "output_type": "execute_result"
    }
   ],
   "source": [
    "df"
   ]
  },
  {
   "cell_type": "code",
   "execution_count": 4,
   "id": "5f7a95c7",
   "metadata": {},
   "outputs": [
    {
     "data": {
      "text/plain": [
       "Index(['COU', 'Country', 'MEAS', 'Measure', 'Large subnational region',\n",
       "       'Small subnational region', 'VAR', 'Variable', 'Year', 'Unit Code',\n",
       "       'Unit', 'Value'],\n",
       "      dtype='object')"
      ]
     },
     "execution_count": 4,
     "metadata": {},
     "output_type": "execute_result"
    }
   ],
   "source": [
    "df.columns"
   ]
  },
  {
   "cell_type": "code",
   "execution_count": 5,
   "id": "7bc1282c",
   "metadata": {},
   "outputs": [
    {
     "data": {
      "text/plain": [
       "(864, 12)"
      ]
     },
     "execution_count": 5,
     "metadata": {},
     "output_type": "execute_result"
    }
   ],
   "source": [
    "df.shape"
   ]
  },
  {
   "cell_type": "code",
   "execution_count": 6,
   "id": "b3c8d215",
   "metadata": {},
   "outputs": [],
   "source": [
    "df1 = df.copy()"
   ]
  },
  {
   "cell_type": "markdown",
   "id": "d4b9aaab",
   "metadata": {},
   "source": [
    "# COU, MEANS, VAR, Unit Code, Unit, which are all columns dropped."
   ]
  },
  {
   "cell_type": "code",
   "execution_count": 7,
   "id": "1db68879",
   "metadata": {},
   "outputs": [],
   "source": [
    "df1.drop(['COU','MEAS','VAR', 'Unit Code', 'Unit'], axis = 1, inplace = True)"
   ]
  },
  {
   "cell_type": "code",
   "execution_count": 8,
   "id": "25eee605",
   "metadata": {},
   "outputs": [
    {
     "data": {
      "text/html": [
       "<div>\n",
       "<style scoped>\n",
       "    .dataframe tbody tr th:only-of-type {\n",
       "        vertical-align: middle;\n",
       "    }\n",
       "\n",
       "    .dataframe tbody tr th {\n",
       "        vertical-align: top;\n",
       "    }\n",
       "\n",
       "    .dataframe thead th {\n",
       "        text-align: right;\n",
       "    }\n",
       "</style>\n",
       "<table border=\"1\" class=\"dataframe\">\n",
       "  <thead>\n",
       "    <tr style=\"text-align: right;\">\n",
       "      <th></th>\n",
       "      <th>Country</th>\n",
       "      <th>Measure</th>\n",
       "      <th>Large subnational region</th>\n",
       "      <th>Small subnational region</th>\n",
       "      <th>Variable</th>\n",
       "      <th>Year</th>\n",
       "      <th>Value</th>\n",
       "    </tr>\n",
       "  </thead>\n",
       "  <tbody>\n",
       "    <tr>\n",
       "      <th>0</th>\n",
       "      <td>Algeria</td>\n",
       "      <td>Square kilometers</td>\n",
       "      <td>Total</td>\n",
       "      <td>Total</td>\n",
       "      <td>Area built-up before</td>\n",
       "      <td>1975</td>\n",
       "      <td>899.211600</td>\n",
       "    </tr>\n",
       "    <tr>\n",
       "      <th>1</th>\n",
       "      <td>Algeria</td>\n",
       "      <td>Square kilometers</td>\n",
       "      <td>Total</td>\n",
       "      <td>Total</td>\n",
       "      <td>Area built-up before</td>\n",
       "      <td>1990</td>\n",
       "      <td>1713.512700</td>\n",
       "    </tr>\n",
       "    <tr>\n",
       "      <th>2</th>\n",
       "      <td>Algeria</td>\n",
       "      <td>Square kilometers</td>\n",
       "      <td>Total</td>\n",
       "      <td>Total</td>\n",
       "      <td>Area built-up before</td>\n",
       "      <td>2000</td>\n",
       "      <td>2326.863600</td>\n",
       "    </tr>\n",
       "    <tr>\n",
       "      <th>3</th>\n",
       "      <td>Algeria</td>\n",
       "      <td>Square kilometers</td>\n",
       "      <td>Total</td>\n",
       "      <td>Total</td>\n",
       "      <td>Area built-up before</td>\n",
       "      <td>2014</td>\n",
       "      <td>2761.221600</td>\n",
       "    </tr>\n",
       "    <tr>\n",
       "      <th>4</th>\n",
       "      <td>Algeria</td>\n",
       "      <td>Square kilometers</td>\n",
       "      <td>Total</td>\n",
       "      <td>Total</td>\n",
       "      <td>Built-up since 1990</td>\n",
       "      <td>2000</td>\n",
       "      <td>613.350900</td>\n",
       "    </tr>\n",
       "    <tr>\n",
       "      <th>...</th>\n",
       "      <td>...</td>\n",
       "      <td>...</td>\n",
       "      <td>...</td>\n",
       "      <td>...</td>\n",
       "      <td>...</td>\n",
       "      <td>...</td>\n",
       "      <td>...</td>\n",
       "    </tr>\n",
       "    <tr>\n",
       "      <th>859</th>\n",
       "      <td>Zambia</td>\n",
       "      <td>Percent of total land area</td>\n",
       "      <td>Total</td>\n",
       "      <td>Total</td>\n",
       "      <td>Built-up since 2000</td>\n",
       "      <td>2014</td>\n",
       "      <td>0.011596</td>\n",
       "    </tr>\n",
       "    <tr>\n",
       "      <th>860</th>\n",
       "      <td>Zimbabwe</td>\n",
       "      <td>Percent of total land area</td>\n",
       "      <td>Total</td>\n",
       "      <td>Total</td>\n",
       "      <td>Built-up since 2000</td>\n",
       "      <td>2014</td>\n",
       "      <td>0.014955</td>\n",
       "    </tr>\n",
       "    <tr>\n",
       "      <th>861</th>\n",
       "      <td>South Sudan</td>\n",
       "      <td>Square kilometers</td>\n",
       "      <td>Total</td>\n",
       "      <td>Total</td>\n",
       "      <td>Built-up since 1990</td>\n",
       "      <td>2000</td>\n",
       "      <td>20.505600</td>\n",
       "    </tr>\n",
       "    <tr>\n",
       "      <th>862</th>\n",
       "      <td>South Sudan</td>\n",
       "      <td>Square kilometers</td>\n",
       "      <td>Total</td>\n",
       "      <td>Total</td>\n",
       "      <td>Built-up since 1990</td>\n",
       "      <td>2014</td>\n",
       "      <td>44.336700</td>\n",
       "    </tr>\n",
       "    <tr>\n",
       "      <th>863</th>\n",
       "      <td>South Sudan</td>\n",
       "      <td>Percent of total land area</td>\n",
       "      <td>Total</td>\n",
       "      <td>Total</td>\n",
       "      <td>Built-up since 2000</td>\n",
       "      <td>2014</td>\n",
       "      <td>0.003762</td>\n",
       "    </tr>\n",
       "  </tbody>\n",
       "</table>\n",
       "<p>864 rows × 7 columns</p>\n",
       "</div>"
      ],
      "text/plain": [
       "          Country                     Measure Large subnational region  \\\n",
       "0         Algeria           Square kilometers                    Total   \n",
       "1         Algeria           Square kilometers                    Total   \n",
       "2         Algeria           Square kilometers                    Total   \n",
       "3         Algeria           Square kilometers                    Total   \n",
       "4         Algeria           Square kilometers                    Total   \n",
       "..            ...                         ...                      ...   \n",
       "859        Zambia  Percent of total land area                    Total   \n",
       "860      Zimbabwe  Percent of total land area                    Total   \n",
       "861  South Sudan            Square kilometers                    Total   \n",
       "862  South Sudan            Square kilometers                    Total   \n",
       "863  South Sudan   Percent of total land area                    Total   \n",
       "\n",
       "    Small subnational region              Variable  Year        Value  \n",
       "0                      Total  Area built-up before  1975   899.211600  \n",
       "1                      Total  Area built-up before  1990  1713.512700  \n",
       "2                      Total  Area built-up before  2000  2326.863600  \n",
       "3                      Total  Area built-up before  2014  2761.221600  \n",
       "4                      Total   Built-up since 1990  2000   613.350900  \n",
       "..                       ...                   ...   ...          ...  \n",
       "859                    Total   Built-up since 2000  2014     0.011596  \n",
       "860                    Total   Built-up since 2000  2014     0.014955  \n",
       "861                    Total   Built-up since 1990  2000    20.505600  \n",
       "862                    Total   Built-up since 1990  2014    44.336700  \n",
       "863                    Total   Built-up since 2000  2014     0.003762  \n",
       "\n",
       "[864 rows x 7 columns]"
      ]
     },
     "execution_count": 8,
     "metadata": {},
     "output_type": "execute_result"
    }
   ],
   "source": [
    "df1"
   ]
  },
  {
   "cell_type": "code",
   "execution_count": 9,
   "id": "83172c72",
   "metadata": {},
   "outputs": [
    {
     "data": {
      "text/plain": [
       "Country                     0\n",
       "Measure                     0\n",
       "Large subnational region    0\n",
       "Small subnational region    0\n",
       "Variable                    0\n",
       "Year                        0\n",
       "Value                       0\n",
       "dtype: int64"
      ]
     },
     "execution_count": 9,
     "metadata": {},
     "output_type": "execute_result"
    }
   ],
   "source": [
    "df1.isnull().sum()"
   ]
  },
  {
   "cell_type": "code",
   "execution_count": 10,
   "id": "45fe5ee7",
   "metadata": {},
   "outputs": [
    {
     "data": {
      "text/plain": [
       "Country                     0\n",
       "Measure                     0\n",
       "Large subnational region    0\n",
       "Small subnational region    0\n",
       "Variable                    0\n",
       "Year                        0\n",
       "Value                       0\n",
       "dtype: int64"
      ]
     },
     "execution_count": 10,
     "metadata": {},
     "output_type": "execute_result"
    }
   ],
   "source": [
    "df1.isna().sum()"
   ]
  },
  {
   "cell_type": "markdown",
   "id": "218704d0",
   "metadata": {},
   "source": [
    "# No Null and Na Values"
   ]
  },
  {
   "cell_type": "code",
   "execution_count": 11,
   "id": "01ee4cac",
   "metadata": {},
   "outputs": [
    {
     "data": {
      "text/plain": [
       "0"
      ]
     },
     "execution_count": 11,
     "metadata": {},
     "output_type": "execute_result"
    }
   ],
   "source": [
    "df1.duplicated().sum()"
   ]
  },
  {
   "cell_type": "markdown",
   "id": "ba7039ca",
   "metadata": {},
   "source": [
    "# No duplicate values"
   ]
  },
  {
   "cell_type": "code",
   "execution_count": 12,
   "id": "afb78222",
   "metadata": {},
   "outputs": [
    {
     "data": {
      "text/html": [
       "<div>\n",
       "<style scoped>\n",
       "    .dataframe tbody tr th:only-of-type {\n",
       "        vertical-align: middle;\n",
       "    }\n",
       "\n",
       "    .dataframe tbody tr th {\n",
       "        vertical-align: top;\n",
       "    }\n",
       "\n",
       "    .dataframe thead th {\n",
       "        text-align: right;\n",
       "    }\n",
       "</style>\n",
       "<table border=\"1\" class=\"dataframe\">\n",
       "  <thead>\n",
       "    <tr style=\"text-align: right;\">\n",
       "      <th></th>\n",
       "      <th>Country</th>\n",
       "      <th>Measure</th>\n",
       "      <th>Large subnational region</th>\n",
       "      <th>Small subnational region</th>\n",
       "      <th>Variable</th>\n",
       "      <th>Year</th>\n",
       "      <th>Value</th>\n",
       "    </tr>\n",
       "  </thead>\n",
       "  <tbody>\n",
       "    <tr>\n",
       "      <th>0</th>\n",
       "      <td>Algeria</td>\n",
       "      <td>Square kilometers</td>\n",
       "      <td>Total</td>\n",
       "      <td>Total</td>\n",
       "      <td>Area built-up before</td>\n",
       "      <td>1975</td>\n",
       "      <td>899.2116</td>\n",
       "    </tr>\n",
       "    <tr>\n",
       "      <th>1</th>\n",
       "      <td>Algeria</td>\n",
       "      <td>Square kilometers</td>\n",
       "      <td>Total</td>\n",
       "      <td>Total</td>\n",
       "      <td>Area built-up before</td>\n",
       "      <td>1990</td>\n",
       "      <td>1713.5127</td>\n",
       "    </tr>\n",
       "    <tr>\n",
       "      <th>2</th>\n",
       "      <td>Algeria</td>\n",
       "      <td>Square kilometers</td>\n",
       "      <td>Total</td>\n",
       "      <td>Total</td>\n",
       "      <td>Area built-up before</td>\n",
       "      <td>2000</td>\n",
       "      <td>2326.8636</td>\n",
       "    </tr>\n",
       "    <tr>\n",
       "      <th>3</th>\n",
       "      <td>Algeria</td>\n",
       "      <td>Square kilometers</td>\n",
       "      <td>Total</td>\n",
       "      <td>Total</td>\n",
       "      <td>Area built-up before</td>\n",
       "      <td>2014</td>\n",
       "      <td>2761.2216</td>\n",
       "    </tr>\n",
       "    <tr>\n",
       "      <th>4</th>\n",
       "      <td>Algeria</td>\n",
       "      <td>Square kilometers</td>\n",
       "      <td>Total</td>\n",
       "      <td>Total</td>\n",
       "      <td>Built-up since 1990</td>\n",
       "      <td>2000</td>\n",
       "      <td>613.3509</td>\n",
       "    </tr>\n",
       "  </tbody>\n",
       "</table>\n",
       "</div>"
      ],
      "text/plain": [
       "   Country            Measure Large subnational region  \\\n",
       "0  Algeria  Square kilometers                    Total   \n",
       "1  Algeria  Square kilometers                    Total   \n",
       "2  Algeria  Square kilometers                    Total   \n",
       "3  Algeria  Square kilometers                    Total   \n",
       "4  Algeria  Square kilometers                    Total   \n",
       "\n",
       "  Small subnational region              Variable  Year      Value  \n",
       "0                    Total  Area built-up before  1975   899.2116  \n",
       "1                    Total  Area built-up before  1990  1713.5127  \n",
       "2                    Total  Area built-up before  2000  2326.8636  \n",
       "3                    Total  Area built-up before  2014  2761.2216  \n",
       "4                    Total   Built-up since 1990  2000   613.3509  "
      ]
     },
     "execution_count": 12,
     "metadata": {},
     "output_type": "execute_result"
    }
   ],
   "source": [
    "df1.head()"
   ]
  },
  {
   "cell_type": "code",
   "execution_count": 13,
   "id": "f57d5f3b",
   "metadata": {},
   "outputs": [
    {
     "data": {
      "text/html": [
       "<div>\n",
       "<style scoped>\n",
       "    .dataframe tbody tr th:only-of-type {\n",
       "        vertical-align: middle;\n",
       "    }\n",
       "\n",
       "    .dataframe tbody tr th {\n",
       "        vertical-align: top;\n",
       "    }\n",
       "\n",
       "    .dataframe thead th {\n",
       "        text-align: right;\n",
       "    }\n",
       "</style>\n",
       "<table border=\"1\" class=\"dataframe\">\n",
       "  <thead>\n",
       "    <tr style=\"text-align: right;\">\n",
       "      <th></th>\n",
       "      <th>Year</th>\n",
       "      <th>Value</th>\n",
       "    </tr>\n",
       "  </thead>\n",
       "  <tbody>\n",
       "    <tr>\n",
       "      <th>count</th>\n",
       "      <td>864.000000</td>\n",
       "      <td>864.000000</td>\n",
       "    </tr>\n",
       "    <tr>\n",
       "      <th>mean</th>\n",
       "      <td>1999.625000</td>\n",
       "      <td>191.215405</td>\n",
       "    </tr>\n",
       "    <tr>\n",
       "      <th>std</th>\n",
       "      <td>13.292437</td>\n",
       "      <td>628.893721</td>\n",
       "    </tr>\n",
       "    <tr>\n",
       "      <th>min</th>\n",
       "      <td>1975.000000</td>\n",
       "      <td>0.000000</td>\n",
       "    </tr>\n",
       "    <tr>\n",
       "      <th>25%</th>\n",
       "      <td>1990.000000</td>\n",
       "      <td>0.045735</td>\n",
       "    </tr>\n",
       "    <tr>\n",
       "      <th>50%</th>\n",
       "      <td>2000.000000</td>\n",
       "      <td>0.738582</td>\n",
       "    </tr>\n",
       "    <tr>\n",
       "      <th>75%</th>\n",
       "      <td>2014.000000</td>\n",
       "      <td>112.754025</td>\n",
       "    </tr>\n",
       "    <tr>\n",
       "      <th>max</th>\n",
       "      <td>2014.000000</td>\n",
       "      <td>7364.035800</td>\n",
       "    </tr>\n",
       "  </tbody>\n",
       "</table>\n",
       "</div>"
      ],
      "text/plain": [
       "              Year        Value\n",
       "count   864.000000   864.000000\n",
       "mean   1999.625000   191.215405\n",
       "std      13.292437   628.893721\n",
       "min    1975.000000     0.000000\n",
       "25%    1990.000000     0.045735\n",
       "50%    2000.000000     0.738582\n",
       "75%    2014.000000   112.754025\n",
       "max    2014.000000  7364.035800"
      ]
     },
     "execution_count": 13,
     "metadata": {},
     "output_type": "execute_result"
    }
   ],
   "source": [
    "df1.describe()"
   ]
  },
  {
   "cell_type": "code",
   "execution_count": 14,
   "id": "8c62090c",
   "metadata": {},
   "outputs": [
    {
     "data": {
      "text/plain": [
       "array(['Algeria', 'Angola', 'Benin', 'Botswana', 'Burkina Faso',\n",
       "       'Burundi', 'Cameroon', 'Cabo Verde', 'Central African Republic',\n",
       "       'Chad', 'Comoros', 'Congo', \"Côte d'Ivoire\",\n",
       "       'Democratic Republic of the Congo', 'Djibouti', 'Egypt',\n",
       "       'Equatorial Guinea', 'Eritrea', 'Ethiopia', 'Gabon', 'Gambia',\n",
       "       'Ghana', 'Guinea', 'Guinea-Bissau', 'Kenya', 'Lesotho', 'Liberia',\n",
       "       'Libya', 'Madagascar', 'Malawi', 'Mali', 'Mauritania', 'Mauritius',\n",
       "       'Morocco', 'Mozambique', 'Namibia', 'Niger', 'Nigeria', 'Rwanda',\n",
       "       'Sao Tome and Principe', 'Senegal', 'Seychelles', 'Sierra Leone',\n",
       "       'Somalia', 'South Africa', 'Sudan', 'Eswatini', 'Tanzania', 'Togo',\n",
       "       'Tunisia', 'Uganda', 'Zambia', 'Zimbabwe', 'South Sudan '],\n",
       "      dtype=object)"
      ]
     },
     "execution_count": 14,
     "metadata": {},
     "output_type": "execute_result"
    }
   ],
   "source": [
    "df1.Country.unique()"
   ]
  },
  {
   "cell_type": "code",
   "execution_count": 15,
   "id": "7173e94f",
   "metadata": {},
   "outputs": [
    {
     "data": {
      "text/plain": [
       "Country                      object\n",
       "Measure                      object\n",
       "Large subnational region     object\n",
       "Small subnational region     object\n",
       "Variable                     object\n",
       "Year                          int64\n",
       "Value                       float64\n",
       "dtype: object"
      ]
     },
     "execution_count": 15,
     "metadata": {},
     "output_type": "execute_result"
    }
   ],
   "source": [
    "df1.dtypes"
   ]
  },
  {
   "cell_type": "code",
   "execution_count": 16,
   "id": "0b6702de",
   "metadata": {},
   "outputs": [
    {
     "data": {
      "text/plain": [
       "Area built-up before    432\n",
       "Built-up since 1990     216\n",
       "Built-up since 2000     108\n",
       "Built-up since 1975     108\n",
       "Name: Variable, dtype: int64"
      ]
     },
     "execution_count": 16,
     "metadata": {},
     "output_type": "execute_result"
    }
   ],
   "source": [
    "df1.Variable.value_counts()"
   ]
  },
  {
   "cell_type": "code",
   "execution_count": 17,
   "id": "e8accf44",
   "metadata": {},
   "outputs": [
    {
     "data": {
      "text/plain": [
       "array([1975, 1990, 2000, 2014], dtype=int64)"
      ]
     },
     "execution_count": 17,
     "metadata": {},
     "output_type": "execute_result"
    }
   ],
   "source": [
    "df1.Year.unique()"
   ]
  },
  {
   "cell_type": "code",
   "execution_count": 18,
   "id": "d5342f94",
   "metadata": {},
   "outputs": [
    {
     "data": {
      "text/html": [
       "<div>\n",
       "<style scoped>\n",
       "    .dataframe tbody tr th:only-of-type {\n",
       "        vertical-align: middle;\n",
       "    }\n",
       "\n",
       "    .dataframe tbody tr th {\n",
       "        vertical-align: top;\n",
       "    }\n",
       "\n",
       "    .dataframe thead th {\n",
       "        text-align: right;\n",
       "    }\n",
       "</style>\n",
       "<table border=\"1\" class=\"dataframe\">\n",
       "  <thead>\n",
       "    <tr style=\"text-align: right;\">\n",
       "      <th></th>\n",
       "      <th>Country</th>\n",
       "      <th>Variable</th>\n",
       "      <th>Year</th>\n",
       "      <th>0</th>\n",
       "    </tr>\n",
       "  </thead>\n",
       "  <tbody>\n",
       "    <tr>\n",
       "      <th>0</th>\n",
       "      <td>Algeria</td>\n",
       "      <td>Area built-up before</td>\n",
       "      <td>1975</td>\n",
       "      <td>2</td>\n",
       "    </tr>\n",
       "    <tr>\n",
       "      <th>1</th>\n",
       "      <td>Algeria</td>\n",
       "      <td>Area built-up before</td>\n",
       "      <td>1990</td>\n",
       "      <td>2</td>\n",
       "    </tr>\n",
       "    <tr>\n",
       "      <th>2</th>\n",
       "      <td>Algeria</td>\n",
       "      <td>Area built-up before</td>\n",
       "      <td>2000</td>\n",
       "      <td>2</td>\n",
       "    </tr>\n",
       "    <tr>\n",
       "      <th>3</th>\n",
       "      <td>Algeria</td>\n",
       "      <td>Area built-up before</td>\n",
       "      <td>2014</td>\n",
       "      <td>2</td>\n",
       "    </tr>\n",
       "    <tr>\n",
       "      <th>4</th>\n",
       "      <td>Algeria</td>\n",
       "      <td>Built-up since 1975</td>\n",
       "      <td>1990</td>\n",
       "      <td>2</td>\n",
       "    </tr>\n",
       "    <tr>\n",
       "      <th>...</th>\n",
       "      <td>...</td>\n",
       "      <td>...</td>\n",
       "      <td>...</td>\n",
       "      <td>...</td>\n",
       "    </tr>\n",
       "    <tr>\n",
       "      <th>427</th>\n",
       "      <td>Zimbabwe</td>\n",
       "      <td>Area built-up before</td>\n",
       "      <td>2014</td>\n",
       "      <td>2</td>\n",
       "    </tr>\n",
       "    <tr>\n",
       "      <th>428</th>\n",
       "      <td>Zimbabwe</td>\n",
       "      <td>Built-up since 1975</td>\n",
       "      <td>1990</td>\n",
       "      <td>2</td>\n",
       "    </tr>\n",
       "    <tr>\n",
       "      <th>429</th>\n",
       "      <td>Zimbabwe</td>\n",
       "      <td>Built-up since 1990</td>\n",
       "      <td>2000</td>\n",
       "      <td>2</td>\n",
       "    </tr>\n",
       "    <tr>\n",
       "      <th>430</th>\n",
       "      <td>Zimbabwe</td>\n",
       "      <td>Built-up since 1990</td>\n",
       "      <td>2014</td>\n",
       "      <td>2</td>\n",
       "    </tr>\n",
       "    <tr>\n",
       "      <th>431</th>\n",
       "      <td>Zimbabwe</td>\n",
       "      <td>Built-up since 2000</td>\n",
       "      <td>2014</td>\n",
       "      <td>2</td>\n",
       "    </tr>\n",
       "  </tbody>\n",
       "</table>\n",
       "<p>432 rows × 4 columns</p>\n",
       "</div>"
      ],
      "text/plain": [
       "      Country              Variable  Year  0\n",
       "0     Algeria  Area built-up before  1975  2\n",
       "1     Algeria  Area built-up before  1990  2\n",
       "2     Algeria  Area built-up before  2000  2\n",
       "3     Algeria  Area built-up before  2014  2\n",
       "4     Algeria   Built-up since 1975  1990  2\n",
       "..        ...                   ...   ... ..\n",
       "427  Zimbabwe  Area built-up before  2014  2\n",
       "428  Zimbabwe   Built-up since 1975  1990  2\n",
       "429  Zimbabwe   Built-up since 1990  2000  2\n",
       "430  Zimbabwe   Built-up since 1990  2014  2\n",
       "431  Zimbabwe   Built-up since 2000  2014  2\n",
       "\n",
       "[432 rows x 4 columns]"
      ]
     },
     "execution_count": 18,
     "metadata": {},
     "output_type": "execute_result"
    }
   ],
   "source": [
    "df1[['Country','Variable', 'Year']].groupby(['Country','Variable','Year']).size().reset_index()"
   ]
  },
  {
   "cell_type": "code",
   "execution_count": 19,
   "id": "b298eaa3",
   "metadata": {},
   "outputs": [
    {
     "name": "stderr",
     "output_type": "stream",
     "text": [
      "C:\\Users\\Ram\\AppData\\Local\\Temp\\ipykernel_228\\3912920568.py:1: UserWarning: \n",
      "\n",
      "`distplot` is a deprecated function and will be removed in seaborn v0.14.0.\n",
      "\n",
      "Please adapt your code to use either `displot` (a figure-level function with\n",
      "similar flexibility) or `histplot` (an axes-level function for histograms).\n",
      "\n",
      "For a guide to updating your code to use the new functions, please see\n",
      "https://gist.github.com/mwaskom/de44147ed2974457ad6372750bbe5751\n",
      "\n",
      "  sns.distplot(df1['Year'])\n"
     ]
    },
    {
     "data": {
      "text/plain": [
       "<AxesSubplot: xlabel='Year', ylabel='Density'>"
      ]
     },
     "execution_count": 19,
     "metadata": {},
     "output_type": "execute_result"
    },
    {
     "data": {
      "image/png": "[encoded data removed]",
      "text/plain": [
       "<Figure size 640x480 with 1 Axes>"
      ]
     },
     "metadata": {},
     "output_type": "display_data"
    }
   ],
   "source": [
    "sns.distplot(df1['Year'])"
   ]
  },
  {
   "cell_type": "code",
   "execution_count": 52,
   "id": "864bd88c",
   "metadata": {
    "scrolled": false
   },
   "outputs": [
    {
     "data": {
      "text/plain": [
       "<AxesSubplot: xlabel='Value', ylabel='Country'>"
      ]
     },
     "execution_count": 52,
     "metadata": {},
     "output_type": "execute_result"
    },
    {
     "data": {
      "image/png": "[encoded data removed]",
      "text/plain": [
       "<Figure size 1500x1500 with 1 Axes>"
      ]
     },
     "metadata": {},
     "output_type": "display_data"
    }
   ],
   "source": [
    "plt.figure(figsize=(15,15))\n",
    "sns.barplot(x='Value',y='Country',data=df1, hue = \"Variable\")"
   ]
  },
  {
   "cell_type": "markdown",
   "id": "95cefb6b",
   "metadata": {},
   "source": [
    "# Convert to categorical to numeric"
   ]
  },
  {
   "cell_type": "code",
   "execution_count": 20,
   "id": "8c2fff7d",
   "metadata": {},
   "outputs": [
    {
     "data": {
      "text/plain": [
       "Index(['Country', 'Measure', 'Large subnational region',\n",
       "       'Small subnational region', 'Variable', 'Year', 'Value'],\n",
       "      dtype='object')"
      ]
     },
     "execution_count": 20,
     "metadata": {},
     "output_type": "execute_result"
    }
   ],
   "source": [
    "df1.columns"
   ]
  },
  {
   "cell_type": "code",
   "execution_count": 25,
   "id": "8b4e4bad",
   "metadata": {},
   "outputs": [
    {
     "data": {
      "text/html": [
       "<div>\n",
       "<style scoped>\n",
       "    .dataframe tbody tr th:only-of-type {\n",
       "        vertical-align: middle;\n",
       "    }\n",
       "\n",
       "    .dataframe tbody tr th {\n",
       "        vertical-align: top;\n",
       "    }\n",
       "\n",
       "    .dataframe thead th {\n",
       "        text-align: right;\n",
       "    }\n",
       "</style>\n",
       "<table border=\"1\" class=\"dataframe\">\n",
       "  <thead>\n",
       "    <tr style=\"text-align: right;\">\n",
       "      <th></th>\n",
       "      <th>Country</th>\n",
       "      <th>Measure</th>\n",
       "      <th>Large subnational region</th>\n",
       "      <th>Small subnational region</th>\n",
       "      <th>Variable</th>\n",
       "    </tr>\n",
       "  </thead>\n",
       "  <tbody>\n",
       "    <tr>\n",
       "      <th>0</th>\n",
       "      <td>Algeria</td>\n",
       "      <td>Square kilometers</td>\n",
       "      <td>Total</td>\n",
       "      <td>Total</td>\n",
       "      <td>Area built-up before</td>\n",
       "    </tr>\n",
       "    <tr>\n",
       "      <th>1</th>\n",
       "      <td>Algeria</td>\n",
       "      <td>Square kilometers</td>\n",
       "      <td>Total</td>\n",
       "      <td>Total</td>\n",
       "      <td>Area built-up before</td>\n",
       "    </tr>\n",
       "    <tr>\n",
       "      <th>2</th>\n",
       "      <td>Algeria</td>\n",
       "      <td>Square kilometers</td>\n",
       "      <td>Total</td>\n",
       "      <td>Total</td>\n",
       "      <td>Area built-up before</td>\n",
       "    </tr>\n",
       "    <tr>\n",
       "      <th>3</th>\n",
       "      <td>Algeria</td>\n",
       "      <td>Square kilometers</td>\n",
       "      <td>Total</td>\n",
       "      <td>Total</td>\n",
       "      <td>Area built-up before</td>\n",
       "    </tr>\n",
       "    <tr>\n",
       "      <th>4</th>\n",
       "      <td>Algeria</td>\n",
       "      <td>Square kilometers</td>\n",
       "      <td>Total</td>\n",
       "      <td>Total</td>\n",
       "      <td>Built-up since 1990</td>\n",
       "    </tr>\n",
       "  </tbody>\n",
       "</table>\n",
       "</div>"
      ],
      "text/plain": [
       "   Country            Measure Large subnational region  \\\n",
       "0  Algeria  Square kilometers                    Total   \n",
       "1  Algeria  Square kilometers                    Total   \n",
       "2  Algeria  Square kilometers                    Total   \n",
       "3  Algeria  Square kilometers                    Total   \n",
       "4  Algeria  Square kilometers                    Total   \n",
       "\n",
       "  Small subnational region              Variable  \n",
       "0                    Total  Area built-up before  \n",
       "1                    Total  Area built-up before  \n",
       "2                    Total  Area built-up before  \n",
       "3                    Total  Area built-up before  \n",
       "4                    Total   Built-up since 1990  "
      ]
     },
     "execution_count": 25,
     "metadata": {},
     "output_type": "execute_result"
    }
   ],
   "source": [
    "df2 = df1[['Country', 'Measure', 'Large subnational region',\n",
    "       'Small subnational region', 'Variable']]\n",
    "df2.head()"
   ]
  },
  {
   "cell_type": "code",
   "execution_count": 26,
   "id": "bf0becc9",
   "metadata": {},
   "outputs": [
    {
     "data": {
      "text/html": [
       "<div>\n",
       "<style scoped>\n",
       "    .dataframe tbody tr th:only-of-type {\n",
       "        vertical-align: middle;\n",
       "    }\n",
       "\n",
       "    .dataframe tbody tr th {\n",
       "        vertical-align: top;\n",
       "    }\n",
       "\n",
       "    .dataframe thead th {\n",
       "        text-align: right;\n",
       "    }\n",
       "</style>\n",
       "<table border=\"1\" class=\"dataframe\">\n",
       "  <thead>\n",
       "    <tr style=\"text-align: right;\">\n",
       "      <th></th>\n",
       "      <th>Year</th>\n",
       "      <th>Value</th>\n",
       "    </tr>\n",
       "  </thead>\n",
       "  <tbody>\n",
       "    <tr>\n",
       "      <th>0</th>\n",
       "      <td>1975</td>\n",
       "      <td>899.2116</td>\n",
       "    </tr>\n",
       "    <tr>\n",
       "      <th>1</th>\n",
       "      <td>1990</td>\n",
       "      <td>1713.5127</td>\n",
       "    </tr>\n",
       "    <tr>\n",
       "      <th>2</th>\n",
       "      <td>2000</td>\n",
       "      <td>2326.8636</td>\n",
       "    </tr>\n",
       "    <tr>\n",
       "      <th>3</th>\n",
       "      <td>2014</td>\n",
       "      <td>2761.2216</td>\n",
       "    </tr>\n",
       "    <tr>\n",
       "      <th>4</th>\n",
       "      <td>2000</td>\n",
       "      <td>613.3509</td>\n",
       "    </tr>\n",
       "  </tbody>\n",
       "</table>\n",
       "</div>"
      ],
      "text/plain": [
       "   Year      Value\n",
       "0  1975   899.2116\n",
       "1  1990  1713.5127\n",
       "2  2000  2326.8636\n",
       "3  2014  2761.2216\n",
       "4  2000   613.3509"
      ]
     },
     "execution_count": 26,
     "metadata": {},
     "output_type": "execute_result"
    }
   ],
   "source": [
    "df3=df1[['Year', 'Value']]\n",
    "df3.head()"
   ]
  },
  {
   "cell_type": "code",
   "execution_count": 27,
   "id": "875f9433",
   "metadata": {},
   "outputs": [
    {
     "data": {
      "text/html": [
       "<div>\n",
       "<style scoped>\n",
       "    .dataframe tbody tr th:only-of-type {\n",
       "        vertical-align: middle;\n",
       "    }\n",
       "\n",
       "    .dataframe tbody tr th {\n",
       "        vertical-align: top;\n",
       "    }\n",
       "\n",
       "    .dataframe thead th {\n",
       "        text-align: right;\n",
       "    }\n",
       "</style>\n",
       "<table border=\"1\" class=\"dataframe\">\n",
       "  <thead>\n",
       "    <tr style=\"text-align: right;\">\n",
       "      <th></th>\n",
       "      <th>Country</th>\n",
       "      <th>Measure</th>\n",
       "      <th>Large subnational region</th>\n",
       "      <th>Small subnational region</th>\n",
       "      <th>Variable</th>\n",
       "    </tr>\n",
       "  </thead>\n",
       "  <tbody>\n",
       "    <tr>\n",
       "      <th>0</th>\n",
       "      <td>0</td>\n",
       "      <td>1</td>\n",
       "      <td>0</td>\n",
       "      <td>0</td>\n",
       "      <td>0</td>\n",
       "    </tr>\n",
       "    <tr>\n",
       "      <th>1</th>\n",
       "      <td>0</td>\n",
       "      <td>1</td>\n",
       "      <td>0</td>\n",
       "      <td>0</td>\n",
       "      <td>0</td>\n",
       "    </tr>\n",
       "    <tr>\n",
       "      <th>2</th>\n",
       "      <td>0</td>\n",
       "      <td>1</td>\n",
       "      <td>0</td>\n",
       "      <td>0</td>\n",
       "      <td>0</td>\n",
       "    </tr>\n",
       "    <tr>\n",
       "      <th>3</th>\n",
       "      <td>0</td>\n",
       "      <td>1</td>\n",
       "      <td>0</td>\n",
       "      <td>0</td>\n",
       "      <td>0</td>\n",
       "    </tr>\n",
       "    <tr>\n",
       "      <th>4</th>\n",
       "      <td>0</td>\n",
       "      <td>1</td>\n",
       "      <td>0</td>\n",
       "      <td>0</td>\n",
       "      <td>2</td>\n",
       "    </tr>\n",
       "  </tbody>\n",
       "</table>\n",
       "</div>"
      ],
      "text/plain": [
       "   Country  Measure  Large subnational region  Small subnational region  \\\n",
       "0        0        1                         0                         0   \n",
       "1        0        1                         0                         0   \n",
       "2        0        1                         0                         0   \n",
       "3        0        1                         0                         0   \n",
       "4        0        1                         0                         0   \n",
       "\n",
       "   Variable  \n",
       "0         0  \n",
       "1         0  \n",
       "2         0  \n",
       "3         0  \n",
       "4         2  "
      ]
     },
     "execution_count": 27,
     "metadata": {},
     "output_type": "execute_result"
    }
   ],
   "source": [
    "from sklearn import preprocessing\n",
    "le = preprocessing.LabelEncoder()\n",
    "df2=df2.apply(le.fit_transform)\n",
    "df2.head()"
   ]
  },
  {
   "cell_type": "code",
   "execution_count": 28,
   "id": "ce81c7f8",
   "metadata": {},
   "outputs": [
    {
     "data": {
      "text/html": [
       "<div>\n",
       "<style scoped>\n",
       "    .dataframe tbody tr th:only-of-type {\n",
       "        vertical-align: middle;\n",
       "    }\n",
       "\n",
       "    .dataframe tbody tr th {\n",
       "        vertical-align: top;\n",
       "    }\n",
       "\n",
       "    .dataframe thead th {\n",
       "        text-align: right;\n",
       "    }\n",
       "</style>\n",
       "<table border=\"1\" class=\"dataframe\">\n",
       "  <thead>\n",
       "    <tr style=\"text-align: right;\">\n",
       "      <th></th>\n",
       "      <th>Country</th>\n",
       "      <th>Measure</th>\n",
       "      <th>Large subnational region</th>\n",
       "      <th>Small subnational region</th>\n",
       "      <th>Variable</th>\n",
       "      <th>Year</th>\n",
       "      <th>Value</th>\n",
       "    </tr>\n",
       "  </thead>\n",
       "  <tbody>\n",
       "    <tr>\n",
       "      <th>0</th>\n",
       "      <td>0</td>\n",
       "      <td>1</td>\n",
       "      <td>0</td>\n",
       "      <td>0</td>\n",
       "      <td>0</td>\n",
       "      <td>1975</td>\n",
       "      <td>899.2116</td>\n",
       "    </tr>\n",
       "    <tr>\n",
       "      <th>1</th>\n",
       "      <td>0</td>\n",
       "      <td>1</td>\n",
       "      <td>0</td>\n",
       "      <td>0</td>\n",
       "      <td>0</td>\n",
       "      <td>1990</td>\n",
       "      <td>1713.5127</td>\n",
       "    </tr>\n",
       "    <tr>\n",
       "      <th>2</th>\n",
       "      <td>0</td>\n",
       "      <td>1</td>\n",
       "      <td>0</td>\n",
       "      <td>0</td>\n",
       "      <td>0</td>\n",
       "      <td>2000</td>\n",
       "      <td>2326.8636</td>\n",
       "    </tr>\n",
       "    <tr>\n",
       "      <th>3</th>\n",
       "      <td>0</td>\n",
       "      <td>1</td>\n",
       "      <td>0</td>\n",
       "      <td>0</td>\n",
       "      <td>0</td>\n",
       "      <td>2014</td>\n",
       "      <td>2761.2216</td>\n",
       "    </tr>\n",
       "    <tr>\n",
       "      <th>4</th>\n",
       "      <td>0</td>\n",
       "      <td>1</td>\n",
       "      <td>0</td>\n",
       "      <td>0</td>\n",
       "      <td>2</td>\n",
       "      <td>2000</td>\n",
       "      <td>613.3509</td>\n",
       "    </tr>\n",
       "  </tbody>\n",
       "</table>\n",
       "</div>"
      ],
      "text/plain": [
       "   Country  Measure  Large subnational region  Small subnational region  \\\n",
       "0        0        1                         0                         0   \n",
       "1        0        1                         0                         0   \n",
       "2        0        1                         0                         0   \n",
       "3        0        1                         0                         0   \n",
       "4        0        1                         0                         0   \n",
       "\n",
       "   Variable  Year      Value  \n",
       "0         0  1975   899.2116  \n",
       "1         0  1990  1713.5127  \n",
       "2         0  2000  2326.8636  \n",
       "3         0  2014  2761.2216  \n",
       "4         2  2000   613.3509  "
      ]
     },
     "execution_count": 28,
     "metadata": {},
     "output_type": "execute_result"
    }
   ],
   "source": [
    "df4=pd.concat([df2,df3], axis = 1)\n",
    "df4.head()"
   ]
  },
  {
   "cell_type": "code",
   "execution_count": null,
   "id": "4674d005",
   "metadata": {},
   "outputs": [],
   "source": []
  }
 ],
 "metadata": {
  "kernelspec": {
   "display_name": "Python 3 (ipykernel)",
   "language": "python",
   "name": "python3"
  },
  "language_info": {
   "codemirror_mode": {
    "name": "ipython",
    "version": 3
   },
   "file_extension": ".py",
   "mimetype": "text/x-python",
   "name": "python",
   "nbconvert_exporter": "python",
   "pygments_lexer": "ipython3",
   "version": "3.10.8"
  }
 },
 "nbformat": 4,
 "nbformat_minor": 5
}
